{
  "nbformat": 4,
  "nbformat_minor": 0,
  "metadata": {
    "colab": {
      "name": "warmup assgn_2011050.ipynb",
      "provenance": [],
      "collapsed_sections": []
    },
    "kernelspec": {
      "name": "python3",
      "display_name": "Python 3"
    },
    "language_info": {
      "name": "python"
    }
  },
  "cells": [
    {
      "cell_type": "code",
      "execution_count": null,
      "metadata": {
        "colab": {
          "base_uri": "https://localhost:8080/"
        },
        "id": "gZQVP_VRchiE",
        "outputId": "d7266f9b-f415-4ede-db23-d8ff0c0b85b0"
      },
      "outputs": [
        {
          "output_type": "stream",
          "name": "stdout",
          "text": [
            "Enter the value of N:9\n",
            "The Sum of first 9 odd numbers is 81\n",
            "The factorial of 9 is 362880\n"
          ]
        }
      ],
      "source": [
        "#QUES1\n",
        "#(((((((A)))))))\n",
        "#to calculate sum of first N odd numbers\n",
        "N= int(input(\"Enter the value of N:\"))\n",
        "sum=0\n",
        "for num in range (0,2*N+1): \n",
        "  #to calculate sum of first N odd numbers, num should run from starting point 0 to the number 2N+1\n",
        "  if num%2 != 0: #for num only being the odd number\n",
        "    sum = sum +num #rescursive sum\n",
        "print(\"The Sum of first {0} odd numbers is {1}\".format(N,sum))\n",
        "\n",
        "#(((((B)))))\n",
        "#to calculate factorial of N\n",
        "fact=1\n",
        "if N<0:\n",
        "  print(\"Factorial does not exist for negative number\")\n",
        "elif N==0:\n",
        "  print(\"Factorial of 0 is 1\")\n",
        "else:\n",
        "  for num in range(1,N+1):\n",
        "    fact=fact*num #multiplication of each next numbers to the result\n",
        "  print(\"The factorial of {0} is {1}\".format(N,fact))"
      ]
    },
    {
      "cell_type": "code",
      "source": [
        "#QUES2\n",
        "a1=1 #starting element in AP\n",
        "d=1.5 #common difference in AP\n",
        "r=0.5 #common ratio in GP\n",
        "\n",
        "#(((((((A)))))))\n",
        "#to calculate sum of first N terms of AP[a+(a+d)+(a+2d)+....]\n",
        "NAP= int(input(\"Enter the value of N for AP:\"))\n",
        "sumAP=0\n",
        "num=0\n",
        "while num<NAP:\n",
        "  sumAP=sumAP+a1\n",
        "  a1=a1+d\n",
        "  num=num+1\n",
        "print(\"The sum of first {0} terms of the AP is {1}\".format(NAP,sumAP))\n",
        "\n",
        "#(((((((B)))))))\n",
        "#to calculate sum of first N terms of GP(a+ar+ar^2+....)\n",
        "NGP= int(input(\"Enter the value of N for GP:\"))\n",
        "a2=1\n",
        "sumGP=0\n",
        "num=0\n",
        "while num<NGP:\n",
        "  sumGP=sumGP+a2\n",
        "  a2=a2*r\n",
        "  num=num+1\n",
        "print(\"The sum of first {0} terms of the GP is {1}\".format(NGP,sumGP))\n",
        "\n",
        "#(((((((C)))))))\n",
        "#to calculate sum of first N terms of HP[(1/a)+(1/a+d)+(1/a+2d)+.....)\n",
        "NHP= int(input(\"Enter the value of N for HP:\"))\n",
        "a3=1\n",
        "sumHP=0\n",
        "num=0\n",
        "while num<NHP:\n",
        "  sumHP=float(sumHP+1/a3)\n",
        "  a3=float(a3+d)\n",
        "  num=num+1\n",
        "print(\"The sum of first {0} terms of the HP is {1}\".format(NHP,sumHP))"
      ],
      "metadata": {
        "id": "P_bKA3ZVi12h",
        "outputId": "e9c4e0f5-ce4f-4910-f442-4cc061605b70",
        "colab": {
          "base_uri": "https://localhost:8080/"
        }
      },
      "execution_count": null,
      "outputs": [
        {
          "output_type": "stream",
          "name": "stdout",
          "text": [
            "Enter the value of N for AP:9\n",
            "The sum of first 9 terms of the AP is 63.0\n",
            "Enter the value of N for GP:9\n",
            "The sum of first 9 terms of the GP is 1.99609375\n",
            "Enter the value of N for HP:9\n",
            "The sum of first 9 terms of the HP is 2.3562019821610614\n"
          ]
        }
      ]
    },
    {
      "cell_type": "code",
      "source": [
        "#QUES3\n",
        "#I have taken n to be 100 and 10 to viasualise convergence of series initially and also for larger values of n \n",
        "import matplotlib.pyplot as plt\n",
        "\n",
        "x100=[]\n",
        "y100=[]\n",
        "n=100 #for large value of n\n",
        "sum=0\n",
        "for i in range(1,n+1):\n",
        "  sum=sum+((-1)**(i+1))/2**i\n",
        "  x100.append(i)#defining n points in x\n",
        "  y100.append(sum) #defining corresponding sum in y \n",
        "print(\"The sum of the given series for some n~100 converges to {0:.4f}\".format(sum)) #upto 4 decimal places\n",
        "\n",
        "plt.subplot(1,2,1)\n",
        "plt.plot(x100,y100) #plotting\n",
        "plt.xlabel(\"n\")\n",
        "plt.ylabel(\"sum\")\n",
        "plt.title(\"Plot of sum vs n~100\")\n",
        "\n",
        "x10=[]\n",
        "y10=[]\n",
        "n=10#for small value of n to visualise the trend nicely\n",
        "sum=0\n",
        "for i in range(1,n+1):\n",
        "  sum=sum+((-1)**(i+1))/2**i\n",
        "  x10.append(i)#defining n points in x\n",
        "  y10.append(sum) #defining corresponding sum in y \n",
        "print(\"The sum of the given series for some n~10 converges to {0:.4f}\".format(sum)) #upto 4 decimal places\n",
        "\n",
        "plt.subplot(1,2,2)\n",
        "plt.plot(x10,y10) #plotting\n",
        "plt.xlabel(\"n\")\n",
        "plt.ylabel(\"sum\")\n",
        "plt.title(\"Plot of sum vs n~10\")\n"
      ],
      "metadata": {
        "id": "QxswXU4P1v9h",
        "colab": {
          "base_uri": "https://localhost:8080/",
          "height": 347
        },
        "outputId": "619272e4-fd6e-4aea-fde8-8d577b2c6c0d"
      },
      "execution_count": null,
      "outputs": [
        {
          "output_type": "stream",
          "name": "stdout",
          "text": [
            "The sum of the given series for some n~100 converges to 0.3333\n",
            "The sum of the given series for some n~10 converges to 0.3330\n"
          ]
        },
        {
          "output_type": "execute_result",
          "data": {
            "text/plain": [
              "Text(0.5, 1.0, 'Plot of sum vs n~10')"
            ]
          },
          "metadata": {},
          "execution_count": 5
        },
        {
          "output_type": "display_data",
          "data": {
            "text/plain": [
              "<Figure size 432x288 with 2 Axes>"
            ],
            "image/png": "[encoded data removed]"
          },
          "metadata": {
            "needs_background": "light"
          }
        }
      ]
    },
    {
      "cell_type": "code",
      "source": [
        "#QUES4\n",
        "A=[[2,-3,1.4],[2.5,1,-2],[-0.8,0,3.1]]\n",
        "B=[[0,-1,1],[1.5,0.5,-2],[3,0,-2]]\n",
        "C=[[-2],[0.5],[1.5]]\n",
        "D=[[1],[0],[-1]]\n",
        "\n",
        "#(((((((A)))))))\n",
        "#To calculate AB(matrix multiplication)\n",
        "pr=[[0,0,0],[0,0,0],[0,0,0]]\n",
        "def matrixAB():#defining structure of matrix\n",
        "  for i in pr:\n",
        "    for j in i:\n",
        "      print(j, end=\"\\t\\t\")\n",
        "    print(\"\\n\")\n",
        "  print(\"\\n\")\n",
        "\n",
        "for i in range(len(A)): #iterating through rows of A\n",
        "  for j in range (len(B[0])): #iterating through columns of B\n",
        "    for k in range (len(B)): #ITERATING THROUGH ROWS OF B\n",
        "      pr[i][j]= round(pr[i][j]+ A[i][k]*B[k][j],3) #OPERATION\n",
        "      \n",
        "print(\"The matrix AB is:\\n\")\n",
        "matrixAB()\n",
        "\n",
        "#(((((C)))))\n",
        "#TO CALCULATE BC\n",
        "BC=[[0],[0],[0]]\n",
        "def matrixBC():#defining structure of matrix\n",
        "  for i in BC:\n",
        "    for j in i:\n",
        "      print(j, end=\"\\t\\t\")\n",
        "    print(\"\\n\")\n",
        "  print(\"\\n\")\n",
        "for i in range(len(B)):#iterating through rows of B\n",
        "  for j in range(len(C)):#iterating through C\n",
        "    BC[i][0] =BC[i][0]+ B[i][j]*C[j][0]\n",
        "print(\"The matrix BC is:\\n\")\n",
        "matrixBC()\n",
        "\n",
        "#(((((((B)))))))\n",
        "#To calculate D.C\n",
        "C=[-2,0.5,1.5]\n",
        "D=[1,0,-1]\n",
        "DP=0\n",
        "for D,C in zip(D,C):\n",
        "  DP=DP+D*C\n",
        "print(\"The dot product D.C is\", DP)"
      ],
      "metadata": {
        "colab": {
          "base_uri": "https://localhost:8080/"
        },
        "id": "M43MniTiS4bs",
        "outputId": "8db79934-3c19-4220-a75c-27438843208f"
      },
      "execution_count": null,
      "outputs": [
        {
          "output_type": "stream",
          "name": "stdout",
          "text": [
            "The matrix AB is:\n",
            "\n",
            "-0.3\t\t-3.5\t\t5.2\t\t\n",
            "\n",
            "-4.5\t\t-2.0\t\t4.5\t\t\n",
            "\n",
            "9.3\t\t0.8\t\t-7.0\t\t\n",
            "\n",
            "\n",
            "\n",
            "The matrix BC is:\n",
            "\n",
            "1.0\t\t\n",
            "\n",
            "-5.75\t\t\n",
            "\n",
            "-9.0\t\t\n",
            "\n",
            "\n",
            "\n",
            "The dot product D.C is -3.5\n"
          ]
        }
      ]
    },
    {
      "cell_type": "code",
      "source": [
        "#QUES5\n",
        "#WORKING THROUGH COMPLEX NUMBERS\n",
        "c1=complex(3,-2)\n",
        "c2=complex(1,2)\n",
        "def myComplex():\n",
        "#SUM\n",
        "  sumc=c1+c2\n",
        "  print(\"The sum of the given two complex numbers is:\",sumc)\n",
        "#PRODUCT\n",
        "  productc=c1*c2\n",
        "  print(\"The product of the given two complex numbers is:\",productc)\n",
        "#modulus\n",
        "  mod_c1=((c1.real)**2 + (c1.imag)**2)**0.5\n",
        "  mod_c2=((c2.real)**2 + (c2.imag)**2)**0.5\n",
        "  print(\"The modulus of the complex number\",c1,\" is \",mod_c1,\n",
        "        \"\\nThe modulus of the complex number\",c2,\"is\",mod_c2)\n",
        "myComplex()"
      ],
      "metadata": {
        "colab": {
          "base_uri": "https://localhost:8080/"
        },
        "id": "fY98g0g-nek4",
        "outputId": "a7988713-1dde-43f2-87a0-865fce4e8479"
      },
      "execution_count": null,
      "outputs": [
        {
          "output_type": "stream",
          "name": "stdout",
          "text": [
            "The sum of the given two complex numbers is: (4+0j)\n",
            "The product of the given two complex numbers is: (7+4j)\n",
            "The modulus of the complex number (3-2j)  is  3.605551275463989 \n",
            "The modulus of the complex number (1+2j) is 2.23606797749979\n"
          ]
        }
      ]
    }
  ]
}